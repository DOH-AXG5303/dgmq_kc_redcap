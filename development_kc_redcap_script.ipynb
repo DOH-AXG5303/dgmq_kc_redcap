{
 "cells": [
  {
   "cell_type": "code",
   "execution_count": 1,
   "id": "f5366652-5208-4cda-9dd3-a57b8fa709ef",
   "metadata": {},
   "outputs": [],
   "source": [
    "import pandas as pd\n",
    "import os, re\n",
    "from datetime import datetime, timedelta"
   ]
  },
  {
   "cell_type": "code",
   "execution_count": 2,
   "id": "31848f30-f263-4c55-b98b-479482152ad2",
   "metadata": {},
   "outputs": [],
   "source": [
    "def scan_directory():\n",
    "    \"\"\"\n",
    "    Query present working directory for all .xlsx files\n",
    "\n",
    "    return: list of .xlsx file names\n",
    "    \"\"\"\n",
    "    path = \"./\"  # path to pwd\n",
    "    files = []\n",
    "\n",
    "    # iterate filenames in directory and append .xlsx to files list\n",
    "    for fname in os.listdir(path):\n",
    "        if re.search(r'.csv', fname):\n",
    "            files.append(fname)\n",
    "        else:\n",
    "            pass\n",
    "\n",
    "    return files\n"
   ]
  },
  {
   "cell_type": "code",
   "execution_count": 3,
   "id": "919685ce-1f4c-45ab-a1a8-cb2ff18ef429",
   "metadata": {},
   "outputs": [],
   "source": [
    "date_clms = ['Test collection date',\n",
    "    'Date of departure',\n",
    "    'Date of departure.1',\n",
    "    'Date of departure.2',   \n",
    "    'Date of departure.3',\n",
    "    'Date of departure.4',\n",
    "    'Date of departure.5',\n",
    "    'Date of departure.6',]\n",
    "\n",
    "files = scan_directory()\n",
    "df = pd.read_csv(files[0], parse_dates = date_clms)"
   ]
  },
  {
   "cell_type": "code",
   "execution_count": 4,
   "id": "86dba14c-6133-4b1b-ab2e-9073acfcf121",
   "metadata": {},
   "outputs": [
    {
     "data": {
      "text/plain": [
       "Test collection date    datetime64[ns]\n",
       "Date of departure       datetime64[ns]\n",
       "Date of departure.1     datetime64[ns]\n",
       "Date of departure.2     datetime64[ns]\n",
       "Date of departure.3     datetime64[ns]\n",
       "Date of departure.4     datetime64[ns]\n",
       "Date of departure.5     datetime64[ns]\n",
       "Date of departure.6     datetime64[ns]\n",
       "dtype: object"
      ]
     },
     "execution_count": 4,
     "metadata": {},
     "output_type": "execute_result"
    }
   ],
   "source": [
    "df[date_clms].dtypes"
   ]
  },
  {
   "cell_type": "code",
   "execution_count": null,
   "id": "9453f1e1-f11e-412e-b9c5-0c22be001b9c",
   "metadata": {},
   "outputs": [],
   "source": []
  }
 ],
 "metadata": {
  "kernelspec": {
   "display_name": "Python [conda env:transform21] *",
   "language": "python",
   "name": "conda-env-transform21-py"
  },
  "language_info": {
   "codemirror_mode": {
    "name": "ipython",
    "version": 3
   },
   "file_extension": ".py",
   "mimetype": "text/x-python",
   "name": "python",
   "nbconvert_exporter": "python",
   "pygments_lexer": "ipython3",
   "version": "3.8.10"
  }
 },
 "nbformat": 4,
 "nbformat_minor": 5
}
